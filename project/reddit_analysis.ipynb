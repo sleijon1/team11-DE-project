{
 "cells": [
  {
   "cell_type": "code",
   "execution_count": 1,
   "id": "initial-chosen",
   "metadata": {},
   "outputs": [],
   "source": [
    "from pyspark.sql import SparkSession\n",
    "from datetime import datetime, timezone\n",
    "import re\n",
    "from pyspark.sql.functions import col, udf\n",
    "from pyspark.sql.types import StringType\n",
    "from operator import add\n",
    "\n",
    "\n",
    "spark_session = SparkSession\\\n",
    "        .builder\\\n",
    "        .master(\"spark://192.168.2.242:7077\") \\\n",
    "        .appName(\"reddit_analysis_t11\")\\\n",
    "        .config(\"spark.dynamicAllocation.enabled\", True)\\\n",
    "        .config(\"spark.shuffle.service.enabled\", True)\\\n",
    "        .getOrCreate()\n",
    "\n",
    "# Old API (RDD)\n",
    "spark_context = spark_session.sparkContext\n",
    "\n",
    "spark_context.setLogLevel(\"INFO\")"
   ]
  },
  {
   "cell_type": "code",
   "execution_count": 2,
   "id": "entire-slovakia",
   "metadata": {},
   "outputs": [
    {
     "name": "stdout",
     "output_type": "stream",
     "text": [
      "Input Sample:\n",
      "\n",
      " [Row(author='[deleted]', author_flair_css_class=None, author_flair_text=None, body='[deleted]', controversiality=0, created_utc=1172707213, distinguished=None, edited='false', gilded=0, id='c174td', link_id='t3_1742j', parent_id='t3_1742j', retrieved_on=1473819365, score=15, stickied=False, subreddit='programming', subreddit_id='t5_2fwo', ups=15), Row(author='jvance', author_flair_css_class=None, author_flair_text=None, body='Flouride, good.\\r\\n\\r\\nHolistic Dentistry wackos and the Weston A. Price Foundation, bad.', controversiality=0, created_utc=1172707269, distinguished=None, edited='false', gilded=0, id='c174tg', link_id='t3_170ie', parent_id='t1_c174mz', retrieved_on=1473819365, score=3, stickied=False, subreddit='reddit.com', subreddit_id='t5_6', ups=3)]\n",
      "\n",
      "Number of partitions: 4\n",
      "row entries count: 112444\n",
      "\n",
      "Reddit post schema:\n",
      "\n",
      "root\n",
      " |-- author: string (nullable = true)\n",
      " |-- author_flair_css_class: string (nullable = true)\n",
      " |-- author_flair_text: string (nullable = true)\n",
      " |-- body: string (nullable = true)\n",
      " |-- controversiality: long (nullable = true)\n",
      " |-- created_utc: long (nullable = true)\n",
      " |-- distinguished: string (nullable = true)\n",
      " |-- edited: string (nullable = true)\n",
      " |-- gilded: long (nullable = true)\n",
      " |-- id: string (nullable = true)\n",
      " |-- link_id: string (nullable = true)\n",
      " |-- parent_id: string (nullable = true)\n",
      " |-- retrieved_on: long (nullable = true)\n",
      " |-- score: long (nullable = true)\n",
      " |-- stickied: boolean (nullable = true)\n",
      " |-- subreddit: string (nullable = true)\n",
      " |-- subreddit_id: string (nullable = true)\n",
      " |-- ups: long (nullable = true)\n",
      "\n",
      "First Timestamp of this batch:  2007-03-01 00:00:13+00:00\n",
      "Last Timestamp of this batch 2007-03-31 23:59:33+00:00\n",
      "start_ts: 1172707200\n",
      "end_ts: 1173484800\n"
     ]
    }
   ],
   "source": [
    "df = spark_session.read.json(\"hdfs://192.168.2.242:9000/user/reddit_data/RC_2007-03\")\n",
    "print(\"Input Sample:\\n\\n\", df.take(2))\n",
    "print(\"\\nNumber of partitions:\", df.rdd.getNumPartitions())\n",
    "print(\"row entries count:\", df.count())\n",
    "\n",
    "print(\"\\nReddit post schema:\\n\")\n",
    "df.printSchema()\n",
    "\n",
    "# test converting timestamp\n",
    "first_timestamp = datetime.fromtimestamp(df.first()[\"created_utc\"], tz=timezone.utc)\n",
    "last_timestamp = datetime.fromtimestamp(df.tail(1)[0][\"created_utc\"], tz=timezone.utc)\n",
    "\n",
    "print(\"First Timestamp of this batch: \", first_timestamp)\n",
    "print(\"Last Timestamp of this batch\", last_timestamp)\n",
    "\n",
    "\n",
    "start_ts = int(datetime(2007, 3, 1, 0, 0).timestamp())\n",
    "end_ts = int(datetime(2007, 3, 10, 0, 0).timestamp())\n",
    "date_range = range(start_ts, end_ts)\n",
    "print(\"start_ts:\", start_ts)\n",
    "print(\"end_ts:\", end_ts)"
   ]
  },
  {
   "cell_type": "code",
   "execution_count": 3,
   "id": "undefined-sterling",
   "metadata": {},
   "outputs": [
    {
     "name": "stdout",
     "output_type": "stream",
     "text": [
      "<class 'int'>\n",
      "<class 'pyspark.sql.dataframe.DataFrame'>\n",
      "count after filter on date: 26201\n",
      "Column<'created_utc'>\n"
     ]
    }
   ],
   "source": [
    "# drop everything else\n",
    "in_range = df[['created_utc', 'body']]\n",
    "print(type(df.first()[\"created_utc\"]))\n",
    "in_range = in_range.filter((end_ts >= in_range.created_utc) & (in_range.created_utc >= start_ts))\n",
    "in_range = in_range.filter(df.body != '[deleted]')\n",
    "in_range = in_range.filter(df.body != '[removed]')\n",
    "print(type(in_range))\n",
    "print(\"count after filter on date:\", in_range.count())\n",
    "print(df.created_utc)"
   ]
  },
  {
   "cell_type": "code",
   "execution_count": 4,
   "id": "similar-nation",
   "metadata": {},
   "outputs": [
    {
     "name": "stdout",
     "output_type": "stream",
     "text": [
      "[Row(body='flouride goodholistic dentistry wackos and the weston a price foundation bad'), Row(body='clerks anyone'), Row(body='its even surprising that you had to explain your commentthats why i say that some atheists and such are far more emotional and intolerant than religious zealots'), Row(body='reminds me of the can you build a website for me cause im your friend post recently i get that a lot personally'), Row(body='picture'), Row(body='your laptop is running directly off of the charger and not from the battery'), Row(body='call me when he fixes the line wrap on that site'), Row(body='i think its pretty obvious its not dairy fat that helps its junk put into defatted dairy products like steroids that hurts'), Row(body='whats next newspaper vending machines'), Row(body='voted down for index abuse')]\n"
     ]
    }
   ],
   "source": [
    "def normalize(string):\n",
    "    return  re.sub(r'[^A-Za-z ]', '', string.lower())\n",
    "\n",
    "udf_normalize = udf(normalize, StringType())\n",
    "\n",
    "in_range_norm = in_range.withColumn('body', udf_normalize(col('body')))\n",
    "print(in_range_norm.select(\"body\").take(10))\n",
    "\n",
    "#posts = in_range.select(\"body\").take(10)\n",
    "#single_post = posts[0]\n",
    "# normalize, remove special signs and lower case strings\n",
    "#list_posts = [re.sub(r'[^A-Za-z ]', '', post[\"body\"].lower()) for post in posts]\n",
    "#print(list_posts[0:10])\n"
   ]
  },
  {
   "cell_type": "code",
   "execution_count": 66,
   "id": "speaking-equilibrium",
   "metadata": {},
   "outputs": [
    {
     "name": "stdout",
     "output_type": "stream",
     "text": [
      "[Row(created_utc=1172707269, body='flouride goodholistic dentistry wackos and the weston a price foundation bad')]\n",
      "[(('ronald reagan',), 2), (('hillary clinton',), 10), (('donald trump',), 1)]\n"
     ]
    }
   ],
   "source": [
    "pres_cand = [\"donald trump\", \"hillary clinton\", \"ronald reagan\"]\n",
    "print(in_range_norm.take(1))\n",
    "    \n",
    "data_rdd = in_range_norm.rdd\\\n",
    "                        .map(lambda line: tuple(set([cand for cand in pres_cand if cand in line[1]])))\\\n",
    "                        .filter(lambda match: match != ())\\\n",
    "                        .map(lambda word: (word, 1)).reduceByKey(add)\n",
    "\n",
    "print(data_rdd.collect())\n"
   ]
  },
  {
   "cell_type": "code",
   "execution_count": null,
   "id": "patent-enhancement",
   "metadata": {},
   "outputs": [],
   "source": []
  }
 ],
 "metadata": {
  "kernelspec": {
   "display_name": "Python 3",
   "language": "python",
   "name": "python3"
  },
  "language_info": {
   "codemirror_mode": {
    "name": "ipython",
    "version": 3
   },
   "file_extension": ".py",
   "mimetype": "text/x-python",
   "name": "python",
   "nbconvert_exporter": "python",
   "pygments_lexer": "ipython3",
   "version": "3.8.5"
  }
 },
 "nbformat": 4,
 "nbformat_minor": 5
}
